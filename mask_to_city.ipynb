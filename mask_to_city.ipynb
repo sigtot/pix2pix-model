{
 "cells": [
  {
   "cell_type": "code",
   "execution_count": 18,
   "metadata": {
    "collapsed": true,
    "pycharm": {
     "is_executing": false
    }
   },
   "outputs": [
    {
     "name": "stdout",
     "text": [
      "The autoreload extension is already loaded. To reload it, use:\n",
      "  %reload_ext autoreload\n"
     ],
     "output_type": "stream"
    }
   ],
   "source": [
    "%load_ext autoreload\n",
    "%autoreload 2\n",
    "import os\n",
    "\n",
    "from torch import nn\n",
    "from torch import optim\n",
    "from torch.utils.data import DataLoader\n",
    "from torchvision import transforms\n",
    "from torchvision.datasets import Cityscapes\n",
    "from torchvision.utils import save_image"
   ]
  },
  {
   "cell_type": "code",
   "execution_count": 19,
   "metadata": {
    "collapsed": true,
    "pycharm": {
     "is_executing": false
    }
   },
   "outputs": [],
   "source": [
    "# make a folder to save output images\n",
    "from unet import UNet\n",
    "if not os.path.exists('./mlp_img'):\n",
    "    os.mkdir('./mlp_img')\n",
    "\n",
    "# a function used to transform numpy array to image format\n",
    "def to_img(x):\n",
    "    x = 0.5 * (x + 1)\n",
    "    x = x.clamp(0, 1)\n",
    "    x = x.view(x.size(0), x.size(1), x.size(2), x.size(3))\n",
    "    return x\n",
    "\n",
    "#################### select your hyperparameters ############################\n",
    "num_epochs = 10\n",
    "batch_size = 1\n",
    "n_samples = 20\n",
    "\n",
    "####### define image transforms, you can have other choices, explore it! #####\n",
    "transform = transforms.Compose([\n",
    "    transforms.Resize(128),\n",
    "    transforms.ToTensor(),\n",
    "])\n",
    "\n",
    "# download dataset\n",
    "dataset = Cityscapes('./data/cityscapes', transform=transform, target_transform=transform, target_type='color')\n",
    "dataloader = DataLoader(dataset, batch_size=batch_size, shuffle=True)"
   ]
  },
  {
   "cell_type": "code",
   "execution_count": 20,
   "metadata": {
    "collapsed": true,
    "pycharm": {
     "is_executing": false
    }
   },
   "outputs": [],
   "source": [
    "model = UNet(n_channels=3, n_classes=1)\n",
    "############ chose appropriate loss function ######################\n",
    "criterion = nn.L1Loss()\n",
    "\n",
    "# set the optimizer, explore the effect of different optimizers\n",
    "lr = 0.1\n",
    "optimizer = optim.RMSprop(model.parameters(), lr=lr, weight_decay=1e-8)"
   ]
  },
  {
   "cell_type": "code",
   "execution_count": 21,
   "outputs": [
    {
     "name": "stderr",
     "text": [
      "/usr/local/lib/python3.7/dist-packages/torch/nn/modules/loss.py:88: UserWarning: Using a target size (torch.Size([1, 3, 128, 256])) that is different to the input size (torch.Size([1, 1, 128, 256])). This will likely lead to incorrect results due to broadcasting. Please ensure they have the same size.\n",
      "  return F.l1_loss(input, target, reduction=self.reduction)\n"
     ],
     "output_type": "stream"
    },
    {
     "name": "stdout",
     "text": [
      "epoch [1/10], loss:0.2511\n",
      "epoch [2/10], loss:0.1688\n",
      "epoch [3/10], loss:0.1305\n",
      "epoch [4/10], loss:0.1263\n",
      "epoch [5/10], loss:0.0783\n",
      "epoch [6/10], loss:0.1148\n",
      "epoch [7/10], loss:0.1552\n",
      "epoch [8/10], loss:0.1103\n",
      "epoch [9/10], loss:0.1121\n",
      "epoch [10/10], loss:0.0772\n"
     ],
     "output_type": "stream"
    }
   ],
   "source": [
    "for epoch in range(num_epochs):\n",
    "    for i, data in enumerate(dataloader):\n",
    "        if i > n_samples:\n",
    "            break\n",
    "        img, mask_with_alpha = data\n",
    "        mask = mask_with_alpha[:, :3, :, :]\n",
    "        #img = img.view(img.size(0), -1)\n",
    "        # ===================forward=====================\n",
    "        img_pred = model(mask)\n",
    "        loss = criterion(img_pred, img)\n",
    "        # ===================backward====================\n",
    "        optimizer.zero_grad()\n",
    "        loss.backward()\n",
    "        optimizer.step()\n",
    "    # ===================user interaction========================\n",
    "    print('epoch [{}/{}], loss:{:.4f}'.format(epoch + 1, num_epochs, loss.data))\n",
    "    if epoch % 1 == 0:\n",
    "        pic = to_img(img_pred.data)\n",
    "        save_image(pic, './mlp_img/image_{}.png'.format(epoch))\n",
    "        \n",
    "        ori_pic = to_img(img.data)\n",
    "        save_image(ori_pic, './mlp_img/ori_image_{}.png'.format(epoch))\n",
    "        \n",
    "        mask_pic = to_img(mask.data)\n",
    "        save_image(mask_pic, './mlp_img/mask_image_{}.png'.format(epoch))\n"
   ],
   "metadata": {
    "collapsed": false,
    "pycharm": {
     "name": "#%%\n",
     "is_executing": false
    }
   }
  }
 ],
 "metadata": {
  "kernelspec": {
   "display_name": "Python 3",
   "language": "python",
   "name": "python3"
  },
  "language_info": {
   "codemirror_mode": {
    "name": "ipython",
    "version": 3
   },
   "file_extension": ".py",
   "mimetype": "text/x-python",
   "name": "python",
   "nbconvert_exporter": "python",
   "pygments_lexer": "ipython3",
   "version": "3.6.8"
  },
  "pycharm": {
   "stem_cell": {
    "cell_type": "raw",
    "source": [],
    "metadata": {
     "collapsed": false
    }
   }
  }
 },
 "nbformat": 4,
 "nbformat_minor": 2
}