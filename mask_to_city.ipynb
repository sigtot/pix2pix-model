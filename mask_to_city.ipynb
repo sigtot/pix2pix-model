{
 "cells": [
  {
   "cell_type": "code",
   "execution_count": 9,
   "metadata": {
    "collapsed": true,
    "pycharm": {
     "is_executing": false
    }
   },
   "outputs": [
    {
     "name": "stdout",
     "text": [
      "The autoreload extension is already loaded. To reload it, use:\n",
      "  %reload_ext autoreload\n"
     ],
     "output_type": "stream"
    }
   ],
   "source": [
    "%load_ext autoreload\n",
    "%autoreload 2\n",
    "import os\n",
    "\n",
    "from torch import nn\n",
    "from torch import optim\n",
    "from torch.utils.data import DataLoader\n",
    "from torchvision import transforms\n",
    "from torchvision.datasets import Cityscapes\n",
    "from torchvision.utils import save_image\n",
    "from unet import PavelNet"
   ]
  },
  {
   "cell_type": "code",
   "execution_count": 10,
   "metadata": {
    "collapsed": true,
    "pycharm": {
     "is_executing": false
    }
   },
   "outputs": [],
   "source": [
    "# make a folder to save output images\n",
    "if not os.path.exists('./mlp_img'):\n",
    "    os.mkdir('./mlp_img')\n",
    "    \n",
    "\n",
    "# a function used to transform numpy array to image format\n",
    "def to_img(x):\n",
    "    x = 0.5 * (x + 1)\n",
    "    x = x.clamp(0, 1)\n",
    "    x = x.view(x.size(0), x.size(1), x.size(2), x.size(3))\n",
    "    return x\n",
    "\n",
    "#################### select your hyperparameters ############################\n",
    "num_epochs = 1\n",
    "batch_size = 1\n",
    "n_samples = 1\n",
    "\n",
    "####### define image transforms, you can have other choices, explore it! #####\n",
    "transform = transforms.Compose([\n",
    "    transforms.Resize((256, 256)),\n",
    "    transforms.ToTensor(),\n",
    "])\n",
    "\n",
    "# download dataset\n",
    "dataset = Cityscapes('./data/cityscapes', transform=transform, target_transform=transform, target_type='color')\n",
    "dataloader = DataLoader(dataset, batch_size=batch_size, shuffle=True)"
   ]
  },
  {
   "cell_type": "code",
   "execution_count": 11,
   "metadata": {
    "collapsed": true,
    "pycharm": {
     "is_executing": false
    }
   },
   "outputs": [],
   "source": [
    "model = PavelNet()\n",
    "############ chose appropriate loss function ######################\n",
    "criterion = nn.L1Loss()\n",
    "\n",
    "# set the optimizer, explore the effect of different optimizers\n",
    "lr = 0.1\n",
    "optimizer = optim.RMSprop(model.parameters(), lr=lr, weight_decay=1e-8)"
   ]
  },
  {
   "cell_type": "code",
   "execution_count": 12,
   "outputs": [
    {
     "name": "stdout",
     "text": [
      "epoch [1/1], loss:0.7369\n"
     ],
     "output_type": "stream"
    }
   ],
   "source": [
    "for epoch in range(num_epochs):\n",
    "    for i, data in enumerate(dataloader):\n",
    "        if i > n_samples:\n",
    "            break\n",
    "        img, mask_with_alpha = data\n",
    "        mask = mask_with_alpha[:, :3, :, :]\n",
    "        #img = img.view(img.size(0), -1)\n",
    "        # ===================forward=====================\n",
    "        img_pred = model(mask)\n",
    "        loss = criterion(img_pred, img)\n",
    "        # ===================backward====================\n",
    "        optimizer.zero_grad()\n",
    "        loss.backward()\n",
    "        optimizer.step()\n",
    "    # ===================user interaction========================\n",
    "    print('epoch [{}/{}], loss:{:.4f}'.format(epoch + 1, num_epochs, loss.data))\n",
    "    if epoch % 1 == 0:\n",
    "        pic = to_img(img_pred.data)\n",
    "        save_image(pic, './mlp_img/image_{}.png'.format(epoch))\n",
    "        \n",
    "        ori_pic = to_img(img.data)\n",
    "        save_image(ori_pic, './mlp_img/ori_image_{}.png'.format(epoch))\n",
    "        \n",
    "        mask_pic = to_img(mask.data)\n",
    "        save_image(mask_pic, './mlp_img/mask_image_{}.png'.format(epoch))"
   ],
   "metadata": {
    "collapsed": false,
    "pycharm": {
     "name": "#%%\n",
     "is_executing": false
    }
   }
  },
  {
   "cell_type": "code",
   "execution_count": null,
   "outputs": [],
   "source": [
    "\n"
   ],
   "metadata": {
    "collapsed": false,
    "pycharm": {
     "name": "#%%\n"
    }
   }
  }
 ],
 "metadata": {
  "kernelspec": {
   "display_name": "Python 3",
   "language": "python",
   "name": "python3"
  },
  "language_info": {
   "codemirror_mode": {
    "name": "ipython",
    "version": 3
   },
   "file_extension": ".py",
   "mimetype": "text/x-python",
   "name": "python",
   "nbconvert_exporter": "python",
   "pygments_lexer": "ipython3",
   "version": "3.6.8"
  },
  "pycharm": {
   "stem_cell": {
    "cell_type": "raw",
    "source": [],
    "metadata": {
     "collapsed": false
    }
   }
  }
 },
 "nbformat": 4,
 "nbformat_minor": 2
}